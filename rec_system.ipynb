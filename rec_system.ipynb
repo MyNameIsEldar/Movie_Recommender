{
  "nbformat": 4,
  "nbformat_minor": 0,
  "metadata": {
    "colab": {
      "provenance": [],
      "authorship_tag": "ABX9TyP3Vww3AdYQ9zzv/BBxO1Ma",
      "include_colab_link": true
    },
    "kernelspec": {
      "name": "python3",
      "display_name": "Python 3"
    },
    "language_info": {
      "name": "python"
    }
  },
  "cells": [
    {
      "cell_type": "markdown",
      "metadata": {
        "id": "view-in-github",
        "colab_type": "text"
      },
      "source": [
        "<a href=\"https://colab.research.google.com/github/MyNameIsEldar/Movie_Recommender/blob/main/rec_system.ipynb\" target=\"_parent\"><img src=\"https://colab.research.google.com/assets/colab-badge.svg\" alt=\"Open In Colab\"/></a>"
      ]
    },
    {
      "cell_type": "markdown",
      "source": [
        "#🎥Movie Recommender\n",
        "Recommendation System using deep learning\n",
        "\n",
        "##✔️Introduction\n",
        "\n",
        "Required to build embeddings for each user and movie using **neural networks methods**. These embeddings will be used to find more relevant film for user.\n",
        "\n",
        "Solvig this task I will use the DFM. Deep Factorization Machines (DFM) - is a multi-layer neural network to model the user and item latent factors.\n",
        "\n",
        "DMF can be trained using backpropagation and can handle missing data.\n",
        "\n",
        "For this task I will use the **full MovieLens 20M dataset**.\n"
      ],
      "metadata": {
        "id": "gtyn9ItWBRvl"
      }
    },
    {
      "cell_type": "markdown",
      "source": [
        "##📑Imports"
      ],
      "metadata": {
        "id": "eS846b2dBXoL"
      }
    },
    {
      "cell_type": "code",
      "execution_count": 5,
      "metadata": {
        "id": "pN5ZuxCO_osz"
      },
      "outputs": [],
      "source": [
        "import numpy as np\n",
        "import pandas as pd\n",
        "import os\n",
        "from tqdm.notebook import tqdm\n",
        "\n",
        "import seaborn as sns\n",
        "import matplotlib.pyplot as plt\n",
        "\n",
        "import torch\n",
        "import torch.nn as nn\n",
        "from torch.utils.data import Dataset, DataLoader\n",
        "\n",
        "from sklearn.metrics import mean_squared_error, roc_auc_score"
      ]
    },
    {
      "cell_type": "code",
      "source": [],
      "metadata": {
        "id": "LMjAg_QkBFIa"
      },
      "execution_count": null,
      "outputs": []
    }
  ]
}